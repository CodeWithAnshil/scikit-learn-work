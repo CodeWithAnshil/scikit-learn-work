{
 "cells": [
  {
   "cell_type": "markdown",
   "id": "85dad9dc-979a-4306-8d18-94a04e5f11c5",
   "metadata": {},
   "source": [
    "# Using the concept Simple Imputer in scikit learn "
   ]
  },
  {
   "cell_type": "code",
   "execution_count": 2,
   "id": "3549df03-8cd7-4055-891f-c41902c74f41",
   "metadata": {},
   "outputs": [
    {
     "name": "stdout",
     "output_type": "stream",
     "text": [
      "Collecting jupyterlab-lsp\n",
      "  Downloading jupyterlab_lsp-5.2.0-py3-none-any.whl.metadata (12 kB)\n",
      "Requirement already satisfied: python-lsp-server[all] in c:\\users\\anshil\\anaconda3\\lib\\site-packages (1.10.0)\n",
      "Requirement already satisfied: jupyter_lsp>=2.0.0 in c:\\users\\anshil\\appdata\\roaming\\python\\python312\\site-packages (from jupyterlab-lsp) (2.2.5)\n",
      "Requirement already satisfied: jupyterlab<5.0.0a0,>=4.1.0 in c:\\users\\anshil\\appdata\\roaming\\python\\python312\\site-packages (from jupyterlab-lsp) (4.3.4)\n",
      "Requirement already satisfied: docstring-to-markdown in c:\\users\\anshil\\anaconda3\\lib\\site-packages (from python-lsp-server[all]) (0.11)\n",
      "Requirement already satisfied: jedi<0.20.0,>=0.17.2 in c:\\users\\anshil\\appdata\\roaming\\python\\python312\\site-packages (from python-lsp-server[all]) (0.19.2)\n",
      "Requirement already satisfied: pluggy>=1.0.0 in c:\\users\\anshil\\anaconda3\\lib\\site-packages (from python-lsp-server[all]) (1.0.0)\n",
      "Requirement already satisfied: python-lsp-jsonrpc<2.0.0,>=1.1.0 in c:\\users\\anshil\\anaconda3\\lib\\site-packages (from python-lsp-server[all]) (1.1.2)\n",
      "Requirement already satisfied: ujson>=3.0.0 in c:\\users\\anshil\\anaconda3\\lib\\site-packages (from python-lsp-server[all]) (5.10.0)\n",
      "Requirement already satisfied: autopep8<2.1.0,>=2.0.4 in c:\\users\\anshil\\anaconda3\\lib\\site-packages (from python-lsp-server[all]) (2.0.4)\n",
      "Requirement already satisfied: flake8<8,>=7 in c:\\users\\anshil\\anaconda3\\lib\\site-packages (from python-lsp-server[all]) (7.0.0)\n",
      "Requirement already satisfied: mccabe<0.8.0,>=0.7.0 in c:\\users\\anshil\\anaconda3\\lib\\site-packages (from python-lsp-server[all]) (0.7.0)\n",
      "Requirement already satisfied: pycodestyle<2.12.0,>=2.11.0 in c:\\users\\anshil\\anaconda3\\lib\\site-packages (from python-lsp-server[all]) (2.11.1)\n",
      "Requirement already satisfied: pydocstyle<6.4.0,>=6.3.0 in c:\\users\\anshil\\anaconda3\\lib\\site-packages (from python-lsp-server[all]) (6.3.0)\n",
      "Requirement already satisfied: pyflakes<3.3.0,>=3.2.0 in c:\\users\\anshil\\anaconda3\\lib\\site-packages (from python-lsp-server[all]) (3.2.0)\n",
      "Requirement already satisfied: pylint<3.1,>=2.5.0 in c:\\users\\anshil\\anaconda3\\lib\\site-packages (from python-lsp-server[all]) (2.16.2)\n",
      "Requirement already satisfied: rope>=1.11.0 in c:\\users\\anshil\\anaconda3\\lib\\site-packages (from python-lsp-server[all]) (1.12.0)\n",
      "Requirement already satisfied: yapf>=0.33.0 in c:\\users\\anshil\\anaconda3\\lib\\site-packages (from python-lsp-server[all]) (0.40.2)\n",
      "Requirement already satisfied: whatthepatch<2.0.0,>=1.0.2 in c:\\users\\anshil\\anaconda3\\lib\\site-packages (from python-lsp-server[all]) (1.0.2)\n",
      "Requirement already satisfied: parso<0.9.0,>=0.8.4 in c:\\users\\anshil\\appdata\\roaming\\python\\python312\\site-packages (from jedi<0.20.0,>=0.17.2->python-lsp-server[all]) (0.8.4)\n",
      "Requirement already satisfied: jupyter-server>=1.1.2 in c:\\users\\anshil\\appdata\\roaming\\python\\python312\\site-packages (from jupyter_lsp>=2.0.0->jupyterlab-lsp) (2.14.2)\n",
      "Requirement already satisfied: async-lru>=1.0.0 in c:\\users\\anshil\\appdata\\roaming\\python\\python312\\site-packages (from jupyterlab<5.0.0a0,>=4.1.0->jupyterlab-lsp) (2.0.4)\n",
      "Requirement already satisfied: httpx>=0.25.0 in c:\\users\\anshil\\appdata\\roaming\\python\\python312\\site-packages (from jupyterlab<5.0.0a0,>=4.1.0->jupyterlab-lsp) (0.28.1)\n",
      "Requirement already satisfied: ipykernel>=6.5.0 in c:\\users\\anshil\\appdata\\roaming\\python\\python312\\site-packages (from jupyterlab<5.0.0a0,>=4.1.0->jupyterlab-lsp) (6.29.5)\n",
      "Requirement already satisfied: jinja2>=3.0.3 in c:\\users\\anshil\\appdata\\roaming\\python\\python312\\site-packages (from jupyterlab<5.0.0a0,>=4.1.0->jupyterlab-lsp) (3.1.4)\n",
      "Requirement already satisfied: jupyter-core in c:\\users\\anshil\\appdata\\roaming\\python\\python312\\site-packages (from jupyterlab<5.0.0a0,>=4.1.0->jupyterlab-lsp) (5.7.2)\n",
      "Requirement already satisfied: jupyterlab-server<3,>=2.27.1 in c:\\users\\anshil\\appdata\\roaming\\python\\python312\\site-packages (from jupyterlab<5.0.0a0,>=4.1.0->jupyterlab-lsp) (2.27.3)\n",
      "Requirement already satisfied: notebook-shim>=0.2 in c:\\users\\anshil\\appdata\\roaming\\python\\python312\\site-packages (from jupyterlab<5.0.0a0,>=4.1.0->jupyterlab-lsp) (0.2.4)\n",
      "Requirement already satisfied: packaging in c:\\users\\anshil\\appdata\\roaming\\python\\python312\\site-packages (from jupyterlab<5.0.0a0,>=4.1.0->jupyterlab-lsp) (23.2)\n",
      "Requirement already satisfied: setuptools>=40.8.0 in c:\\users\\anshil\\appdata\\roaming\\python\\python312\\site-packages (from jupyterlab<5.0.0a0,>=4.1.0->jupyterlab-lsp) (75.6.0)\n",
      "Requirement already satisfied: tornado>=6.2.0 in c:\\users\\anshil\\appdata\\roaming\\python\\python312\\site-packages (from jupyterlab<5.0.0a0,>=4.1.0->jupyterlab-lsp) (6.4.2)\n",
      "Requirement already satisfied: traitlets in c:\\users\\anshil\\appdata\\roaming\\python\\python312\\site-packages (from jupyterlab<5.0.0a0,>=4.1.0->jupyterlab-lsp) (5.14.3)\n",
      "Requirement already satisfied: snowballstemmer>=2.2.0 in c:\\users\\anshil\\anaconda3\\lib\\site-packages (from pydocstyle<6.4.0,>=6.3.0->python-lsp-server[all]) (2.2.0)\n",
      "Requirement already satisfied: platformdirs>=2.2.0 in c:\\users\\anshil\\appdata\\roaming\\python\\python312\\site-packages (from pylint<3.1,>=2.5.0->python-lsp-server[all]) (4.3.6)\n",
      "Requirement already satisfied: astroid<=2.16.0-dev0,>=2.14.2 in c:\\users\\anshil\\anaconda3\\lib\\site-packages (from pylint<3.1,>=2.5.0->python-lsp-server[all]) (2.14.2)\n",
      "Requirement already satisfied: isort<6,>=4.2.5 in c:\\users\\anshil\\anaconda3\\lib\\site-packages (from pylint<3.1,>=2.5.0->python-lsp-server[all]) (5.13.2)\n",
      "Requirement already satisfied: tomlkit>=0.10.1 in c:\\users\\anshil\\anaconda3\\lib\\site-packages (from pylint<3.1,>=2.5.0->python-lsp-server[all]) (0.11.1)\n",
      "Requirement already satisfied: dill>=0.3.6 in c:\\users\\anshil\\anaconda3\\lib\\site-packages (from pylint<3.1,>=2.5.0->python-lsp-server[all]) (0.3.8)\n",
      "Requirement already satisfied: colorama>=0.4.5 in c:\\users\\anshil\\appdata\\roaming\\python\\python312\\site-packages (from pylint<3.1,>=2.5.0->python-lsp-server[all]) (0.4.6)\n",
      "Requirement already satisfied: pytoolconfig>=1.2.2 in c:\\users\\anshil\\anaconda3\\lib\\site-packages (from pytoolconfig[global]>=1.2.2->rope>=1.11.0->python-lsp-server[all]) (1.2.6)\n",
      "Requirement already satisfied: importlib-metadata>=6.6.0 in c:\\users\\anshil\\anaconda3\\lib\\site-packages (from yapf>=0.33.0->python-lsp-server[all]) (7.0.1)\n",
      "Requirement already satisfied: tomli>=2.0.1 in c:\\users\\anshil\\anaconda3\\lib\\site-packages (from yapf>=0.33.0->python-lsp-server[all]) (2.0.1)\n",
      "Requirement already satisfied: lazy-object-proxy>=1.4.0 in c:\\users\\anshil\\anaconda3\\lib\\site-packages (from astroid<=2.16.0-dev0,>=2.14.2->pylint<3.1,>=2.5.0->python-lsp-server[all]) (1.10.0)\n",
      "Requirement already satisfied: wrapt<2,>=1.14 in c:\\users\\anshil\\anaconda3\\lib\\site-packages (from astroid<=2.16.0-dev0,>=2.14.2->pylint<3.1,>=2.5.0->python-lsp-server[all]) (1.14.1)\n",
      "Requirement already satisfied: anyio in c:\\users\\anshil\\appdata\\roaming\\python\\python312\\site-packages (from httpx>=0.25.0->jupyterlab<5.0.0a0,>=4.1.0->jupyterlab-lsp) (4.7.0)\n",
      "Requirement already satisfied: certifi in c:\\users\\anshil\\appdata\\roaming\\python\\python312\\site-packages (from httpx>=0.25.0->jupyterlab<5.0.0a0,>=4.1.0->jupyterlab-lsp) (2024.12.14)\n",
      "Requirement already satisfied: httpcore==1.* in c:\\users\\anshil\\appdata\\roaming\\python\\python312\\site-packages (from httpx>=0.25.0->jupyterlab<5.0.0a0,>=4.1.0->jupyterlab-lsp) (1.0.7)\n",
      "Requirement already satisfied: idna in c:\\users\\anshil\\appdata\\roaming\\python\\python312\\site-packages (from httpx>=0.25.0->jupyterlab<5.0.0a0,>=4.1.0->jupyterlab-lsp) (3.10)\n",
      "Requirement already satisfied: h11<0.15,>=0.13 in c:\\users\\anshil\\appdata\\roaming\\python\\python312\\site-packages (from httpcore==1.*->httpx>=0.25.0->jupyterlab<5.0.0a0,>=4.1.0->jupyterlab-lsp) (0.14.0)\n",
      "Requirement already satisfied: zipp>=0.5 in c:\\users\\anshil\\anaconda3\\lib\\site-packages (from importlib-metadata>=6.6.0->yapf>=0.33.0->python-lsp-server[all]) (3.17.0)\n",
      "Requirement already satisfied: comm>=0.1.1 in c:\\users\\anshil\\appdata\\roaming\\python\\python312\\site-packages (from ipykernel>=6.5.0->jupyterlab<5.0.0a0,>=4.1.0->jupyterlab-lsp) (0.2.2)\n",
      "Requirement already satisfied: debugpy>=1.6.5 in c:\\users\\anshil\\appdata\\roaming\\python\\python312\\site-packages (from ipykernel>=6.5.0->jupyterlab<5.0.0a0,>=4.1.0->jupyterlab-lsp) (1.8.11)\n",
      "Requirement already satisfied: ipython>=7.23.1 in c:\\users\\anshil\\appdata\\roaming\\python\\python312\\site-packages (from ipykernel>=6.5.0->jupyterlab<5.0.0a0,>=4.1.0->jupyterlab-lsp) (8.30.0)\n",
      "Requirement already satisfied: jupyter-client>=6.1.12 in c:\\users\\anshil\\appdata\\roaming\\python\\python312\\site-packages (from ipykernel>=6.5.0->jupyterlab<5.0.0a0,>=4.1.0->jupyterlab-lsp) (8.6.3)\n",
      "Requirement already satisfied: matplotlib-inline>=0.1 in c:\\users\\anshil\\appdata\\roaming\\python\\python312\\site-packages (from ipykernel>=6.5.0->jupyterlab<5.0.0a0,>=4.1.0->jupyterlab-lsp) (0.1.7)\n",
      "Requirement already satisfied: nest-asyncio in c:\\users\\anshil\\appdata\\roaming\\python\\python312\\site-packages (from ipykernel>=6.5.0->jupyterlab<5.0.0a0,>=4.1.0->jupyterlab-lsp) (1.6.0)\n",
      "Requirement already satisfied: psutil in c:\\users\\anshil\\appdata\\roaming\\python\\python312\\site-packages (from ipykernel>=6.5.0->jupyterlab<5.0.0a0,>=4.1.0->jupyterlab-lsp) (6.1.0)\n",
      "Requirement already satisfied: pyzmq>=24 in c:\\users\\anshil\\appdata\\roaming\\python\\python312\\site-packages (from ipykernel>=6.5.0->jupyterlab<5.0.0a0,>=4.1.0->jupyterlab-lsp) (26.2.0)\n",
      "Requirement already satisfied: MarkupSafe>=2.0 in c:\\users\\anshil\\appdata\\roaming\\python\\python312\\site-packages (from jinja2>=3.0.3->jupyterlab<5.0.0a0,>=4.1.0->jupyterlab-lsp) (2.1.3)\n",
      "Requirement already satisfied: pywin32>=300 in c:\\users\\anshil\\appdata\\roaming\\python\\python312\\site-packages (from jupyter-core->jupyterlab<5.0.0a0,>=4.1.0->jupyterlab-lsp) (308)\n",
      "Requirement already satisfied: argon2-cffi>=21.1 in c:\\users\\anshil\\appdata\\roaming\\python\\python312\\site-packages (from jupyter-server>=1.1.2->jupyter_lsp>=2.0.0->jupyterlab-lsp) (23.1.0)\n",
      "Requirement already satisfied: jupyter-events>=0.9.0 in c:\\users\\anshil\\appdata\\roaming\\python\\python312\\site-packages (from jupyter-server>=1.1.2->jupyter_lsp>=2.0.0->jupyterlab-lsp) (0.11.0)\n",
      "Requirement already satisfied: jupyter-server-terminals>=0.4.4 in c:\\users\\anshil\\appdata\\roaming\\python\\python312\\site-packages (from jupyter-server>=1.1.2->jupyter_lsp>=2.0.0->jupyterlab-lsp) (0.5.3)\n",
      "Requirement already satisfied: nbconvert>=6.4.4 in c:\\users\\anshil\\appdata\\roaming\\python\\python312\\site-packages (from jupyter-server>=1.1.2->jupyter_lsp>=2.0.0->jupyterlab-lsp) (7.16.4)\n",
      "Requirement already satisfied: nbformat>=5.3.0 in c:\\users\\anshil\\appdata\\roaming\\python\\python312\\site-packages (from jupyter-server>=1.1.2->jupyter_lsp>=2.0.0->jupyterlab-lsp) (5.10.4)\n",
      "Requirement already satisfied: overrides>=5.0 in c:\\users\\anshil\\appdata\\roaming\\python\\python312\\site-packages (from jupyter-server>=1.1.2->jupyter_lsp>=2.0.0->jupyterlab-lsp) (7.7.0)\n",
      "Requirement already satisfied: prometheus-client>=0.9 in c:\\users\\anshil\\appdata\\roaming\\python\\python312\\site-packages (from jupyter-server>=1.1.2->jupyter_lsp>=2.0.0->jupyterlab-lsp) (0.21.1)\n",
      "Requirement already satisfied: pywinpty>=2.0.1 in c:\\users\\anshil\\appdata\\roaming\\python\\python312\\site-packages (from jupyter-server>=1.1.2->jupyter_lsp>=2.0.0->jupyterlab-lsp) (2.0.14)\n",
      "Requirement already satisfied: send2trash>=1.8.2 in c:\\users\\anshil\\appdata\\roaming\\python\\python312\\site-packages (from jupyter-server>=1.1.2->jupyter_lsp>=2.0.0->jupyterlab-lsp) (1.8.3)\n",
      "Requirement already satisfied: terminado>=0.8.3 in c:\\users\\anshil\\appdata\\roaming\\python\\python312\\site-packages (from jupyter-server>=1.1.2->jupyter_lsp>=2.0.0->jupyterlab-lsp) (0.18.1)\n",
      "Requirement already satisfied: websocket-client>=1.7 in c:\\users\\anshil\\appdata\\roaming\\python\\python312\\site-packages (from jupyter-server>=1.1.2->jupyter_lsp>=2.0.0->jupyterlab-lsp) (1.8.0)\n",
      "Requirement already satisfied: babel>=2.10 in c:\\users\\anshil\\appdata\\roaming\\python\\python312\\site-packages (from jupyterlab-server<3,>=2.27.1->jupyterlab<5.0.0a0,>=4.1.0->jupyterlab-lsp) (2.16.0)\n",
      "Requirement already satisfied: json5>=0.9.0 in c:\\users\\anshil\\appdata\\roaming\\python\\python312\\site-packages (from jupyterlab-server<3,>=2.27.1->jupyterlab<5.0.0a0,>=4.1.0->jupyterlab-lsp) (0.10.0)\n",
      "Requirement already satisfied: jsonschema>=4.18.0 in c:\\users\\anshil\\appdata\\roaming\\python\\python312\\site-packages (from jupyterlab-server<3,>=2.27.1->jupyterlab<5.0.0a0,>=4.1.0->jupyterlab-lsp) (4.23.0)\n",
      "Requirement already satisfied: requests>=2.31 in c:\\users\\anshil\\appdata\\roaming\\python\\python312\\site-packages (from jupyterlab-server<3,>=2.27.1->jupyterlab<5.0.0a0,>=4.1.0->jupyterlab-lsp) (2.32.3)\n",
      "Requirement already satisfied: sniffio>=1.1 in c:\\users\\anshil\\appdata\\roaming\\python\\python312\\site-packages (from anyio->httpx>=0.25.0->jupyterlab<5.0.0a0,>=4.1.0->jupyterlab-lsp) (1.3.1)\n",
      "Requirement already satisfied: typing_extensions>=4.5 in c:\\users\\anshil\\appdata\\roaming\\python\\python312\\site-packages (from anyio->httpx>=0.25.0->jupyterlab<5.0.0a0,>=4.1.0->jupyterlab-lsp) (4.11.0)\n",
      "Requirement already satisfied: argon2-cffi-bindings in c:\\users\\anshil\\appdata\\roaming\\python\\python312\\site-packages (from argon2-cffi>=21.1->jupyter-server>=1.1.2->jupyter_lsp>=2.0.0->jupyterlab-lsp) (21.2.0)\n",
      "Requirement already satisfied: decorator in c:\\users\\anshil\\appdata\\roaming\\python\\python312\\site-packages (from ipython>=7.23.1->ipykernel>=6.5.0->jupyterlab<5.0.0a0,>=4.1.0->jupyterlab-lsp) (5.1.1)\n",
      "Requirement already satisfied: prompt_toolkit<3.1.0,>=3.0.41 in c:\\users\\anshil\\appdata\\roaming\\python\\python312\\site-packages (from ipython>=7.23.1->ipykernel>=6.5.0->jupyterlab<5.0.0a0,>=4.1.0->jupyterlab-lsp) (3.0.48)\n",
      "Requirement already satisfied: pygments>=2.4.0 in c:\\users\\anshil\\appdata\\roaming\\python\\python312\\site-packages (from ipython>=7.23.1->ipykernel>=6.5.0->jupyterlab<5.0.0a0,>=4.1.0->jupyterlab-lsp) (2.18.0)\n",
      "Requirement already satisfied: stack_data in c:\\users\\anshil\\appdata\\roaming\\python\\python312\\site-packages (from ipython>=7.23.1->ipykernel>=6.5.0->jupyterlab<5.0.0a0,>=4.1.0->jupyterlab-lsp) (0.6.3)\n",
      "Requirement already satisfied: attrs>=22.2.0 in c:\\users\\anshil\\appdata\\roaming\\python\\python312\\site-packages (from jsonschema>=4.18.0->jupyterlab-server<3,>=2.27.1->jupyterlab<5.0.0a0,>=4.1.0->jupyterlab-lsp) (24.3.0)\n",
      "Requirement already satisfied: jsonschema-specifications>=2023.03.6 in c:\\users\\anshil\\appdata\\roaming\\python\\python312\\site-packages (from jsonschema>=4.18.0->jupyterlab-server<3,>=2.27.1->jupyterlab<5.0.0a0,>=4.1.0->jupyterlab-lsp) (2024.10.1)\n",
      "Requirement already satisfied: referencing>=0.28.4 in c:\\users\\anshil\\appdata\\roaming\\python\\python312\\site-packages (from jsonschema>=4.18.0->jupyterlab-server<3,>=2.27.1->jupyterlab<5.0.0a0,>=4.1.0->jupyterlab-lsp) (0.35.1)\n",
      "Requirement already satisfied: rpds-py>=0.7.1 in c:\\users\\anshil\\appdata\\roaming\\python\\python312\\site-packages (from jsonschema>=4.18.0->jupyterlab-server<3,>=2.27.1->jupyterlab<5.0.0a0,>=4.1.0->jupyterlab-lsp) (0.22.3)\n",
      "Requirement already satisfied: python-dateutil>=2.8.2 in c:\\users\\anshil\\appdata\\roaming\\python\\python312\\site-packages (from jupyter-client>=6.1.12->ipykernel>=6.5.0->jupyterlab<5.0.0a0,>=4.1.0->jupyterlab-lsp) (2.8.2)\n",
      "Requirement already satisfied: python-json-logger>=2.0.4 in c:\\users\\anshil\\appdata\\roaming\\python\\python312\\site-packages (from jupyter-events>=0.9.0->jupyter-server>=1.1.2->jupyter_lsp>=2.0.0->jupyterlab-lsp) (3.2.1)\n",
      "Requirement already satisfied: pyyaml>=5.3 in c:\\users\\anshil\\appdata\\roaming\\python\\python312\\site-packages (from jupyter-events>=0.9.0->jupyter-server>=1.1.2->jupyter_lsp>=2.0.0->jupyterlab-lsp) (6.0.2)\n",
      "Requirement already satisfied: rfc3339-validator in c:\\users\\anshil\\appdata\\roaming\\python\\python312\\site-packages (from jupyter-events>=0.9.0->jupyter-server>=1.1.2->jupyter_lsp>=2.0.0->jupyterlab-lsp) (0.1.4)\n",
      "Requirement already satisfied: rfc3986-validator>=0.1.1 in c:\\users\\anshil\\appdata\\roaming\\python\\python312\\site-packages (from jupyter-events>=0.9.0->jupyter-server>=1.1.2->jupyter_lsp>=2.0.0->jupyterlab-lsp) (0.1.1)\n",
      "Requirement already satisfied: beautifulsoup4 in c:\\users\\anshil\\appdata\\roaming\\python\\python312\\site-packages (from nbconvert>=6.4.4->jupyter-server>=1.1.2->jupyter_lsp>=2.0.0->jupyterlab-lsp) (4.12.3)\n",
      "Requirement already satisfied: bleach!=5.0.0 in c:\\users\\anshil\\appdata\\roaming\\python\\python312\\site-packages (from nbconvert>=6.4.4->jupyter-server>=1.1.2->jupyter_lsp>=2.0.0->jupyterlab-lsp) (6.2.0)\n",
      "Requirement already satisfied: defusedxml in c:\\users\\anshil\\appdata\\roaming\\python\\python312\\site-packages (from nbconvert>=6.4.4->jupyter-server>=1.1.2->jupyter_lsp>=2.0.0->jupyterlab-lsp) (0.7.1)\n",
      "Requirement already satisfied: jupyterlab-pygments in c:\\users\\anshil\\appdata\\roaming\\python\\python312\\site-packages (from nbconvert>=6.4.4->jupyter-server>=1.1.2->jupyter_lsp>=2.0.0->jupyterlab-lsp) (0.3.0)\n",
      "Requirement already satisfied: mistune<4,>=2.0.3 in c:\\users\\anshil\\appdata\\roaming\\python\\python312\\site-packages (from nbconvert>=6.4.4->jupyter-server>=1.1.2->jupyter_lsp>=2.0.0->jupyterlab-lsp) (3.0.2)\n",
      "Requirement already satisfied: nbclient>=0.5.0 in c:\\users\\anshil\\appdata\\roaming\\python\\python312\\site-packages (from nbconvert>=6.4.4->jupyter-server>=1.1.2->jupyter_lsp>=2.0.0->jupyterlab-lsp) (0.10.1)\n",
      "Requirement already satisfied: pandocfilters>=1.4.1 in c:\\users\\anshil\\appdata\\roaming\\python\\python312\\site-packages (from nbconvert>=6.4.4->jupyter-server>=1.1.2->jupyter_lsp>=2.0.0->jupyterlab-lsp) (1.5.1)\n",
      "Requirement already satisfied: tinycss2 in c:\\users\\anshil\\appdata\\roaming\\python\\python312\\site-packages (from nbconvert>=6.4.4->jupyter-server>=1.1.2->jupyter_lsp>=2.0.0->jupyterlab-lsp) (1.4.0)\n",
      "Requirement already satisfied: fastjsonschema>=2.15 in c:\\users\\anshil\\appdata\\roaming\\python\\python312\\site-packages (from nbformat>=5.3.0->jupyter-server>=1.1.2->jupyter_lsp>=2.0.0->jupyterlab-lsp) (2.21.1)\n",
      "Requirement already satisfied: charset-normalizer<4,>=2 in c:\\users\\anshil\\appdata\\roaming\\python\\python312\\site-packages (from requests>=2.31->jupyterlab-server<3,>=2.27.1->jupyterlab<5.0.0a0,>=4.1.0->jupyterlab-lsp) (3.4.0)\n",
      "Requirement already satisfied: urllib3<3,>=1.21.1 in c:\\users\\anshil\\appdata\\roaming\\python\\python312\\site-packages (from requests>=2.31->jupyterlab-server<3,>=2.27.1->jupyterlab<5.0.0a0,>=4.1.0->jupyterlab-lsp) (2.2.3)\n",
      "Requirement already satisfied: webencodings in c:\\users\\anshil\\appdata\\roaming\\python\\python312\\site-packages (from bleach!=5.0.0->nbconvert>=6.4.4->jupyter-server>=1.1.2->jupyter_lsp>=2.0.0->jupyterlab-lsp) (0.5.1)\n",
      "Requirement already satisfied: fqdn in c:\\users\\anshil\\appdata\\roaming\\python\\python312\\site-packages (from jsonschema[format-nongpl]>=4.18.0->jupyter-events>=0.9.0->jupyter-server>=1.1.2->jupyter_lsp>=2.0.0->jupyterlab-lsp) (1.5.1)\n",
      "Requirement already satisfied: isoduration in c:\\users\\anshil\\appdata\\roaming\\python\\python312\\site-packages (from jsonschema[format-nongpl]>=4.18.0->jupyter-events>=0.9.0->jupyter-server>=1.1.2->jupyter_lsp>=2.0.0->jupyterlab-lsp) (20.11.0)\n",
      "Requirement already satisfied: jsonpointer>1.13 in c:\\users\\anshil\\appdata\\roaming\\python\\python312\\site-packages (from jsonschema[format-nongpl]>=4.18.0->jupyter-events>=0.9.0->jupyter-server>=1.1.2->jupyter_lsp>=2.0.0->jupyterlab-lsp) (3.0.0)\n",
      "Requirement already satisfied: uri-template in c:\\users\\anshil\\appdata\\roaming\\python\\python312\\site-packages (from jsonschema[format-nongpl]>=4.18.0->jupyter-events>=0.9.0->jupyter-server>=1.1.2->jupyter_lsp>=2.0.0->jupyterlab-lsp) (1.3.0)\n",
      "Requirement already satisfied: webcolors>=24.6.0 in c:\\users\\anshil\\appdata\\roaming\\python\\python312\\site-packages (from jsonschema[format-nongpl]>=4.18.0->jupyter-events>=0.9.0->jupyter-server>=1.1.2->jupyter_lsp>=2.0.0->jupyterlab-lsp) (24.11.1)\n",
      "Requirement already satisfied: wcwidth in c:\\users\\anshil\\appdata\\roaming\\python\\python312\\site-packages (from prompt_toolkit<3.1.0,>=3.0.41->ipython>=7.23.1->ipykernel>=6.5.0->jupyterlab<5.0.0a0,>=4.1.0->jupyterlab-lsp) (0.2.13)\n",
      "Requirement already satisfied: six>=1.5 in c:\\users\\anshil\\appdata\\roaming\\python\\python312\\site-packages (from python-dateutil>=2.8.2->jupyter-client>=6.1.12->ipykernel>=6.5.0->jupyterlab<5.0.0a0,>=4.1.0->jupyterlab-lsp) (1.16.0)\n",
      "Requirement already satisfied: cffi>=1.0.1 in c:\\users\\anshil\\appdata\\roaming\\python\\python312\\site-packages (from argon2-cffi-bindings->argon2-cffi>=21.1->jupyter-server>=1.1.2->jupyter_lsp>=2.0.0->jupyterlab-lsp) (1.17.1)\n",
      "Requirement already satisfied: soupsieve>1.2 in c:\\users\\anshil\\appdata\\roaming\\python\\python312\\site-packages (from beautifulsoup4->nbconvert>=6.4.4->jupyter-server>=1.1.2->jupyter_lsp>=2.0.0->jupyterlab-lsp) (2.6)\n",
      "Requirement already satisfied: executing>=1.2.0 in c:\\users\\anshil\\appdata\\roaming\\python\\python312\\site-packages (from stack_data->ipython>=7.23.1->ipykernel>=6.5.0->jupyterlab<5.0.0a0,>=4.1.0->jupyterlab-lsp) (2.1.0)\n",
      "Requirement already satisfied: asttokens>=2.1.0 in c:\\users\\anshil\\appdata\\roaming\\python\\python312\\site-packages (from stack_data->ipython>=7.23.1->ipykernel>=6.5.0->jupyterlab<5.0.0a0,>=4.1.0->jupyterlab-lsp) (3.0.0)\n",
      "Requirement already satisfied: pure-eval in c:\\users\\anshil\\appdata\\roaming\\python\\python312\\site-packages (from stack_data->ipython>=7.23.1->ipykernel>=6.5.0->jupyterlab<5.0.0a0,>=4.1.0->jupyterlab-lsp) (0.2.3)\n",
      "Requirement already satisfied: pycparser in c:\\users\\anshil\\appdata\\roaming\\python\\python312\\site-packages (from cffi>=1.0.1->argon2-cffi-bindings->argon2-cffi>=21.1->jupyter-server>=1.1.2->jupyter_lsp>=2.0.0->jupyterlab-lsp) (2.22)\n",
      "Requirement already satisfied: arrow>=0.15.0 in c:\\users\\anshil\\appdata\\roaming\\python\\python312\\site-packages (from isoduration->jsonschema[format-nongpl]>=4.18.0->jupyter-events>=0.9.0->jupyter-server>=1.1.2->jupyter_lsp>=2.0.0->jupyterlab-lsp) (1.3.0)\n",
      "Requirement already satisfied: types-python-dateutil>=2.8.10 in c:\\users\\anshil\\appdata\\roaming\\python\\python312\\site-packages (from arrow>=0.15.0->isoduration->jsonschema[format-nongpl]>=4.18.0->jupyter-events>=0.9.0->jupyter-server>=1.1.2->jupyter_lsp>=2.0.0->jupyterlab-lsp) (2.9.0.20241206)\n",
      "Downloading jupyterlab_lsp-5.2.0-py3-none-any.whl (1.6 MB)\n",
      "   ---------------------------------------- 0.0/1.6 MB ? eta -:--:--\n",
      "   ---------------------------------------- 0.0/1.6 MB ? eta -:--:--\n",
      "   ------------- -------------------------- 0.5/1.6 MB 1.5 MB/s eta 0:00:01\n",
      "   -------------------------- ------------- 1.0/1.6 MB 2.2 MB/s eta 0:00:01\n",
      "   ---------------------------------------- 1.6/1.6 MB 2.4 MB/s eta 0:00:00\n",
      "Installing collected packages: jupyterlab-lsp\n",
      "Successfully installed jupyterlab-lsp-5.2.0\n",
      "Note: you may need to restart the kernel to use updated packages.\n"
     ]
    }
   ],
   "source": [
    "pip install jupyterlab-lsp python-lsp-server[all]"
   ]
  },
  {
   "cell_type": "code",
   "execution_count": 10,
   "id": "12a92f98-c799-4786-9f12-6f24f1092700",
   "metadata": {},
   "outputs": [],
   "source": [
    "import pandas as pd\n",
    "\n",
    "from sklearn.impute import SimpleImputer"
   ]
  },
  {
   "cell_type": "code",
   "execution_count": 5,
   "id": "686bc7b1-2bb2-4703-b8b6-d8bdc642fca9",
   "metadata": {},
   "outputs": [
    {
     "data": {
      "text/html": [
       "<div>\n",
       "<style scoped>\n",
       "    .dataframe tbody tr th:only-of-type {\n",
       "        vertical-align: middle;\n",
       "    }\n",
       "\n",
       "    .dataframe tbody tr th {\n",
       "        vertical-align: top;\n",
       "    }\n",
       "\n",
       "    .dataframe thead th {\n",
       "        text-align: right;\n",
       "    }\n",
       "</style>\n",
       "<table border=\"1\" class=\"dataframe\">\n",
       "  <thead>\n",
       "    <tr style=\"text-align: right;\">\n",
       "      <th></th>\n",
       "      <th>Loan_ID</th>\n",
       "      <th>Gender</th>\n",
       "      <th>Married</th>\n",
       "      <th>Dependents</th>\n",
       "      <th>Education</th>\n",
       "      <th>Self_Employed</th>\n",
       "      <th>ApplicantIncome</th>\n",
       "      <th>CoapplicantIncome</th>\n",
       "      <th>LoanAmount</th>\n",
       "      <th>Loan_Amount_Term</th>\n",
       "      <th>Credit_History</th>\n",
       "      <th>Property_Area</th>\n",
       "      <th>Loan_Status</th>\n",
       "    </tr>\n",
       "  </thead>\n",
       "  <tbody>\n",
       "    <tr>\n",
       "      <th>0</th>\n",
       "      <td>LP001002</td>\n",
       "      <td>Male</td>\n",
       "      <td>No</td>\n",
       "      <td>0</td>\n",
       "      <td>Graduate</td>\n",
       "      <td>No</td>\n",
       "      <td>5849</td>\n",
       "      <td>0.0</td>\n",
       "      <td>NaN</td>\n",
       "      <td>360.0</td>\n",
       "      <td>1.0</td>\n",
       "      <td>Urban</td>\n",
       "      <td>Y</td>\n",
       "    </tr>\n",
       "    <tr>\n",
       "      <th>1</th>\n",
       "      <td>LP001003</td>\n",
       "      <td>Male</td>\n",
       "      <td>Yes</td>\n",
       "      <td>1</td>\n",
       "      <td>Graduate</td>\n",
       "      <td>No</td>\n",
       "      <td>4583</td>\n",
       "      <td>1508.0</td>\n",
       "      <td>128.0</td>\n",
       "      <td>360.0</td>\n",
       "      <td>1.0</td>\n",
       "      <td>Rural</td>\n",
       "      <td>N</td>\n",
       "    </tr>\n",
       "    <tr>\n",
       "      <th>2</th>\n",
       "      <td>LP001005</td>\n",
       "      <td>Male</td>\n",
       "      <td>Yes</td>\n",
       "      <td>0</td>\n",
       "      <td>Graduate</td>\n",
       "      <td>Yes</td>\n",
       "      <td>3000</td>\n",
       "      <td>0.0</td>\n",
       "      <td>66.0</td>\n",
       "      <td>360.0</td>\n",
       "      <td>1.0</td>\n",
       "      <td>Urban</td>\n",
       "      <td>Y</td>\n",
       "    </tr>\n",
       "    <tr>\n",
       "      <th>3</th>\n",
       "      <td>LP001006</td>\n",
       "      <td>Male</td>\n",
       "      <td>Yes</td>\n",
       "      <td>0</td>\n",
       "      <td>Not Graduate</td>\n",
       "      <td>No</td>\n",
       "      <td>2583</td>\n",
       "      <td>2358.0</td>\n",
       "      <td>120.0</td>\n",
       "      <td>360.0</td>\n",
       "      <td>1.0</td>\n",
       "      <td>Urban</td>\n",
       "      <td>Y</td>\n",
       "    </tr>\n",
       "  </tbody>\n",
       "</table>\n",
       "</div>"
      ],
      "text/plain": [
       "    Loan_ID Gender Married Dependents     Education Self_Employed  \\\n",
       "0  LP001002   Male      No          0      Graduate            No   \n",
       "1  LP001003   Male     Yes          1      Graduate            No   \n",
       "2  LP001005   Male     Yes          0      Graduate           Yes   \n",
       "3  LP001006   Male     Yes          0  Not Graduate            No   \n",
       "\n",
       "   ApplicantIncome  CoapplicantIncome  LoanAmount  Loan_Amount_Term  \\\n",
       "0             5849                0.0         NaN             360.0   \n",
       "1             4583             1508.0       128.0             360.0   \n",
       "2             3000                0.0        66.0             360.0   \n",
       "3             2583             2358.0       120.0             360.0   \n",
       "\n",
       "   Credit_History Property_Area Loan_Status  \n",
       "0             1.0         Urban           Y  \n",
       "1             1.0         Rural           N  \n",
       "2             1.0         Urban           Y  \n",
       "3             1.0         Urban           Y  "
      ]
     },
     "execution_count": 5,
     "metadata": {},
     "output_type": "execute_result"
    }
   ],
   "source": [
    "dataset=pd.read_csv(\"train.csv\")\n",
    "dataset.head(4)"
   ]
  },
  {
   "cell_type": "code",
   "execution_count": 7,
   "id": "658043c9-dc5e-466d-897a-6f28370d2ef7",
   "metadata": {},
   "outputs": [
    {
     "data": {
      "text/plain": [
       "Loan_ID               0\n",
       "Gender               13\n",
       "Married               3\n",
       "Dependents           15\n",
       "Education             0\n",
       "Self_Employed        32\n",
       "ApplicantIncome       0\n",
       "CoapplicantIncome     0\n",
       "LoanAmount           22\n",
       "Loan_Amount_Term     14\n",
       "Credit_History       50\n",
       "Property_Area         0\n",
       "Loan_Status           0\n",
       "dtype: int64"
      ]
     },
     "execution_count": 7,
     "metadata": {},
     "output_type": "execute_result"
    }
   ],
   "source": [
    "dataset.isnull().sum()"
   ]
  },
  {
   "cell_type": "code",
   "execution_count": 11,
   "id": "cd35ddcb-8267-482d-93f9-c706686f395f",
   "metadata": {},
   "outputs": [
    {
     "data": {
      "text/plain": [
       "Loan_ID               object\n",
       "Gender                object\n",
       "Married               object\n",
       "Dependents            object\n",
       "Education             object\n",
       "Self_Employed         object\n",
       "ApplicantIncome        int64\n",
       "CoapplicantIncome    float64\n",
       "LoanAmount           float64\n",
       "Loan_Amount_Term     float64\n",
       "Credit_History       float64\n",
       "Property_Area         object\n",
       "Loan_Status           object\n",
       "dtype: object"
      ]
     },
     "execution_count": 11,
     "metadata": {},
     "output_type": "execute_result"
    }
   ],
   "source": [
    "dataset.dtypes"
   ]
  },
  {
   "cell_type": "code",
   "execution_count": 44,
   "id": "4a5408b0-ed34-4e7a-9192-f024056a1450",
   "metadata": {},
   "outputs": [
    {
     "name": "stderr",
     "output_type": "stream",
     "text": [
      "C:\\Users\\Anshil\\AppData\\Local\\Temp\\ipykernel_2336\\2462503237.py:2: FutureWarning: A value is trying to be set on a copy of a DataFrame or Series through chained assignment using an inplace method.\n",
      "The behavior will change in pandas 3.0. This inplace method will never work because the intermediate object on which we are setting values always behaves as a copy.\n",
      "\n",
      "For example, when doing 'df[col].method(value, inplace=True)', try using 'df.method({col: value}, inplace=True)' or df[col] = df[col].method(value) instead, to perform the operation inplace on the original object.\n",
      "\n",
      "\n",
      "  dataset[i].fillna(dataset[i].mode()[0],inplace=True)\n"
     ]
    }
   ],
   "source": [
    "for i in dataset.select_dtypes(include=\"object\").columns:\n",
    "    dataset[i].fillna(dataset[i].mode()[0],inplace=True)\n"
   ]
  },
  {
   "cell_type": "code",
   "execution_count": 46,
   "id": "25ff0997-cee5-4276-a1c1-34eb1bf921c2",
   "metadata": {},
   "outputs": [
    {
     "data": {
      "text/plain": [
       "Loan_ID               0\n",
       "Gender                0\n",
       "Married               0\n",
       "Dependents            0\n",
       "Education             0\n",
       "Self_Employed         0\n",
       "ApplicantIncome       0\n",
       "CoapplicantIncome     0\n",
       "LoanAmount           22\n",
       "Loan_Amount_Term     14\n",
       "Credit_History       50\n",
       "Property_Area         0\n",
       "Loan_Status           0\n",
       "dtype: int64"
      ]
     },
     "execution_count": 46,
     "metadata": {},
     "output_type": "execute_result"
    }
   ],
   "source": [
    "dataset.isnull().sum()"
   ]
  },
  {
   "cell_type": "code",
   "execution_count": 57,
   "id": "893a39bc-86a9-414a-8fe9-e3e25026d4b7",
   "metadata": {},
   "outputs": [
    {
     "data": {
      "text/plain": [
       "Index(['CoapplicantIncome', 'LoanAmount', 'Loan_Amount_Term',\n",
       "       'Credit_History'],\n",
       "      dtype='object')"
      ]
     },
     "execution_count": 57,
     "metadata": {},
     "output_type": "execute_result"
    }
   ],
   "source": [
    "dataset.select_dtypes(include=\"float64\").columns"
   ]
  },
  {
   "cell_type": "code",
   "execution_count": 64,
   "id": "faff1592-2c15-45f8-93e9-29c833f52b8c",
   "metadata": {},
   "outputs": [],
   "source": [
    "si=SimpleImputer(strategy=\"mean\")\n",
    "ar=si.fit_transform(dataset[dataset.select_dtypes(include=\"float64\").columns])"
   ]
  },
  {
   "cell_type": "code",
   "execution_count": 65,
   "id": "8f4377c2-4a37-4ec8-b053-447ddacee265",
   "metadata": {},
   "outputs": [],
   "source": [
    "new_dataset=pd.DataFrame(ar,columns=dataset.select_dtypes(include=\"float64\").columns)"
   ]
  },
  {
   "cell_type": "code",
   "execution_count": 66,
   "id": "4b9b6335-ef1d-47c0-8d5e-bfdbd2a72e14",
   "metadata": {},
   "outputs": [
    {
     "data": {
      "text/html": [
       "<div>\n",
       "<style scoped>\n",
       "    .dataframe tbody tr th:only-of-type {\n",
       "        vertical-align: middle;\n",
       "    }\n",
       "\n",
       "    .dataframe tbody tr th {\n",
       "        vertical-align: top;\n",
       "    }\n",
       "\n",
       "    .dataframe thead th {\n",
       "        text-align: right;\n",
       "    }\n",
       "</style>\n",
       "<table border=\"1\" class=\"dataframe\">\n",
       "  <thead>\n",
       "    <tr style=\"text-align: right;\">\n",
       "      <th></th>\n",
       "      <th>CoapplicantIncome</th>\n",
       "      <th>LoanAmount</th>\n",
       "      <th>Loan_Amount_Term</th>\n",
       "      <th>Credit_History</th>\n",
       "    </tr>\n",
       "  </thead>\n",
       "  <tbody>\n",
       "    <tr>\n",
       "      <th>0</th>\n",
       "      <td>0.0</td>\n",
       "      <td>146.412162</td>\n",
       "      <td>360.0</td>\n",
       "      <td>1.0</td>\n",
       "    </tr>\n",
       "    <tr>\n",
       "      <th>1</th>\n",
       "      <td>1508.0</td>\n",
       "      <td>128.000000</td>\n",
       "      <td>360.0</td>\n",
       "      <td>1.0</td>\n",
       "    </tr>\n",
       "    <tr>\n",
       "      <th>2</th>\n",
       "      <td>0.0</td>\n",
       "      <td>66.000000</td>\n",
       "      <td>360.0</td>\n",
       "      <td>1.0</td>\n",
       "    </tr>\n",
       "    <tr>\n",
       "      <th>3</th>\n",
       "      <td>2358.0</td>\n",
       "      <td>120.000000</td>\n",
       "      <td>360.0</td>\n",
       "      <td>1.0</td>\n",
       "    </tr>\n",
       "    <tr>\n",
       "      <th>4</th>\n",
       "      <td>0.0</td>\n",
       "      <td>141.000000</td>\n",
       "      <td>360.0</td>\n",
       "      <td>1.0</td>\n",
       "    </tr>\n",
       "    <tr>\n",
       "      <th>...</th>\n",
       "      <td>...</td>\n",
       "      <td>...</td>\n",
       "      <td>...</td>\n",
       "      <td>...</td>\n",
       "    </tr>\n",
       "    <tr>\n",
       "      <th>609</th>\n",
       "      <td>0.0</td>\n",
       "      <td>71.000000</td>\n",
       "      <td>360.0</td>\n",
       "      <td>1.0</td>\n",
       "    </tr>\n",
       "    <tr>\n",
       "      <th>610</th>\n",
       "      <td>0.0</td>\n",
       "      <td>40.000000</td>\n",
       "      <td>180.0</td>\n",
       "      <td>1.0</td>\n",
       "    </tr>\n",
       "    <tr>\n",
       "      <th>611</th>\n",
       "      <td>240.0</td>\n",
       "      <td>253.000000</td>\n",
       "      <td>360.0</td>\n",
       "      <td>1.0</td>\n",
       "    </tr>\n",
       "    <tr>\n",
       "      <th>612</th>\n",
       "      <td>0.0</td>\n",
       "      <td>187.000000</td>\n",
       "      <td>360.0</td>\n",
       "      <td>1.0</td>\n",
       "    </tr>\n",
       "    <tr>\n",
       "      <th>613</th>\n",
       "      <td>0.0</td>\n",
       "      <td>133.000000</td>\n",
       "      <td>360.0</td>\n",
       "      <td>0.0</td>\n",
       "    </tr>\n",
       "  </tbody>\n",
       "</table>\n",
       "<p>614 rows × 4 columns</p>\n",
       "</div>"
      ],
      "text/plain": [
       "     CoapplicantIncome  LoanAmount  Loan_Amount_Term  Credit_History\n",
       "0                  0.0  146.412162             360.0             1.0\n",
       "1               1508.0  128.000000             360.0             1.0\n",
       "2                  0.0   66.000000             360.0             1.0\n",
       "3               2358.0  120.000000             360.0             1.0\n",
       "4                  0.0  141.000000             360.0             1.0\n",
       "..                 ...         ...               ...             ...\n",
       "609                0.0   71.000000             360.0             1.0\n",
       "610                0.0   40.000000             180.0             1.0\n",
       "611              240.0  253.000000             360.0             1.0\n",
       "612                0.0  187.000000             360.0             1.0\n",
       "613                0.0  133.000000             360.0             0.0\n",
       "\n",
       "[614 rows x 4 columns]"
      ]
     },
     "execution_count": 66,
     "metadata": {},
     "output_type": "execute_result"
    }
   ],
   "source": [
    "new_dataset"
   ]
  },
  {
   "cell_type": "code",
   "execution_count": 67,
   "id": "9543330c-4f4c-4921-afe1-12c9962ead9e",
   "metadata": {},
   "outputs": [
    {
     "data": {
      "text/plain": [
       "CoapplicantIncome    0\n",
       "LoanAmount           0\n",
       "Loan_Amount_Term     0\n",
       "Credit_History       0\n",
       "dtype: int64"
      ]
     },
     "execution_count": 67,
     "metadata": {},
     "output_type": "execute_result"
    }
   ],
   "source": [
    "new_dataset.isnull().sum()"
   ]
  },
  {
   "cell_type": "code",
   "execution_count": null,
   "id": "229fa341-841e-4969-b0ff-4dd219ba8a15",
   "metadata": {},
   "outputs": [],
   "source": []
  },
  {
   "cell_type": "code",
   "execution_count": null,
   "id": "599e940a-ff4e-49e6-a11f-033b872c29eb",
   "metadata": {},
   "outputs": [],
   "source": []
  }
 ],
 "metadata": {
  "kernelspec": {
   "display_name": "Python 3 (ipykernel)",
   "language": "python",
   "name": "python3"
  },
  "language_info": {
   "codemirror_mode": {
    "name": "ipython",
    "version": 3
   },
   "file_extension": ".py",
   "mimetype": "text/x-python",
   "name": "python",
   "nbconvert_exporter": "python",
   "pygments_lexer": "ipython3",
   "version": "3.12.3"
  }
 },
 "nbformat": 4,
 "nbformat_minor": 5
}
