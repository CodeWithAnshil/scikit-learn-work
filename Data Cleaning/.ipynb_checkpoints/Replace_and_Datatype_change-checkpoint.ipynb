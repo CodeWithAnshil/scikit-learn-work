{
 "cells": [
  {
   "cell_type": "code",
   "execution_count": 1,
   "id": "65f036ec-9eb5-45ef-a4cd-9cb35affd879",
   "metadata": {},
   "outputs": [],
   "source": [
    "import pandas as pd "
   ]
  },
  {
   "cell_type": "code",
   "execution_count": 12,
   "id": "46f3e549-c225-47eb-8dca-2634229c9ba4",
   "metadata": {},
   "outputs": [],
   "source": [
    "dataset = pd.read_csv(\"train.csv\")"
   ]
  },
  {
   "cell_type": "code",
   "execution_count": 13,
   "id": "701470bd-bc5a-4519-80f6-add798ee2829",
   "metadata": {},
   "outputs": [
    {
     "data": {
      "text/plain": [
       "Dependents\n",
       "0     345\n",
       "1     102\n",
       "2     101\n",
       "3+     51\n",
       "Name: count, dtype: int64"
      ]
     },
     "execution_count": 13,
     "metadata": {},
     "output_type": "execute_result"
    }
   ],
   "source": [
    "dataset[\"Dependents\"].value_counts()"
   ]
  },
  {
   "cell_type": "code",
   "execution_count": 14,
   "id": "acebda5b-9d40-4953-8540-83e8bbcf0ff8",
   "metadata": {},
   "outputs": [
    {
     "data": {
      "text/plain": [
       "Loan_ID               object\n",
       "Gender                object\n",
       "Married               object\n",
       "Dependents            object\n",
       "Education             object\n",
       "Self_Employed         object\n",
       "ApplicantIncome        int64\n",
       "CoapplicantIncome    float64\n",
       "LoanAmount           float64\n",
       "Loan_Amount_Term     float64\n",
       "Credit_History       float64\n",
       "Property_Area         object\n",
       "Loan_Status           object\n",
       "dtype: object"
      ]
     },
     "execution_count": 14,
     "metadata": {},
     "output_type": "execute_result"
    }
   ],
   "source": [
    "dataset.dtypes"
   ]
  },
  {
   "cell_type": "code",
   "execution_count": 15,
   "id": "2de50ed6-c8b8-4c67-92ef-3f214ad86aca",
   "metadata": {},
   "outputs": [
    {
     "data": {
      "text/plain": [
       "Loan_ID               0\n",
       "Gender               13\n",
       "Married               3\n",
       "Dependents           15\n",
       "Education             0\n",
       "Self_Employed        32\n",
       "ApplicantIncome       0\n",
       "CoapplicantIncome     0\n",
       "LoanAmount           22\n",
       "Loan_Amount_Term     14\n",
       "Credit_History       50\n",
       "Property_Area         0\n",
       "Loan_Status           0\n",
       "dtype: int64"
      ]
     },
     "execution_count": 15,
     "metadata": {},
     "output_type": "execute_result"
    }
   ],
   "source": [
    "dataset.isnull().sum()"
   ]
  },
  {
   "cell_type": "markdown",
   "id": "9efc3174-ed88-47d6-9835-eb6899abde0f",
   "metadata": {},
   "source": [
    "### Remove none values in column \"Dependents\" "
   ]
  },
  {
   "cell_type": "code",
   "execution_count": 16,
   "id": "4268b3e2-7828-401a-a928-2b1b0edf9bb9",
   "metadata": {},
   "outputs": [],
   "source": [
    "dataset.fillna({\"Dependents\": dataset[\"Dependents\"].mode()[0]}, inplace=True)"
   ]
  },
  {
   "cell_type": "markdown",
   "id": "f7af07d3-7d6c-40c9-88c7-c196800e5f92",
   "metadata": {},
   "source": [
    "### Again check null values in column \"Dependents\" for conformation"
   ]
  },
  {
   "cell_type": "code",
   "execution_count": 20,
   "id": "44e926e0-c235-49c1-91b0-8e211807d420",
   "metadata": {},
   "outputs": [
    {
     "data": {
      "text/plain": [
       "Loan_ID               0\n",
       "Gender               13\n",
       "Married               3\n",
       "Dependents            0\n",
       "Education             0\n",
       "Self_Employed        32\n",
       "ApplicantIncome       0\n",
       "CoapplicantIncome     0\n",
       "LoanAmount           22\n",
       "Loan_Amount_Term     14\n",
       "Credit_History       50\n",
       "Property_Area         0\n",
       "Loan_Status           0\n",
       "dtype: int64"
      ]
     },
     "execution_count": 20,
     "metadata": {},
     "output_type": "execute_result"
    }
   ],
   "source": [
    "dataset.isnull().sum()"
   ]
  },
  {
   "cell_type": "markdown",
   "id": "f5fecfa5-503f-4a61-ac78-33dba4387c0d",
   "metadata": {},
   "source": [
    "### Change the value of dependents which is not relatable in this column"
   ]
  },
  {
   "cell_type": "code",
   "execution_count": 25,
   "id": "fd9e256b-0b1a-43f3-a1b1-0f1a9ce175e7",
   "metadata": {},
   "outputs": [],
   "source": [
    "dataset[\"Dependents\"] = dataset[\"Dependents\"].replace(\"3+\",\"3\")"
   ]
  },
  {
   "cell_type": "code",
   "execution_count": 27,
   "id": "e364f338-2c18-4ef4-8e8f-90ad2622cb42",
   "metadata": {},
   "outputs": [
    {
     "data": {
      "text/plain": [
       "Dependents\n",
       "0    360\n",
       "1    102\n",
       "2    101\n",
       "3     51\n",
       "Name: count, dtype: int64"
      ]
     },
     "execution_count": 27,
     "metadata": {},
     "output_type": "execute_result"
    }
   ],
   "source": [
    "dataset[\"Dependents\"].value_counts()"
   ]
  },
  {
   "cell_type": "markdown",
   "id": "0149e19a-0f36-45a8-97ff-75d38faa1f10",
   "metadata": {},
   "source": [
    "#### Change the data type of column \"Dependents\" (object -> int64)"
   ]
  },
  {
   "cell_type": "code",
   "execution_count": 29,
   "id": "09a250f3-0c97-46e0-9816-15a8694abd0d",
   "metadata": {},
   "outputs": [],
   "source": [
    "dataset[\"Dependents\"] = dataset[\"Dependents\"].astype(\"int64\")"
   ]
  },
  {
   "cell_type": "code",
   "execution_count": 32,
   "id": "b05cc850-2e80-4a65-b3ba-0b9750b2e87b",
   "metadata": {},
   "outputs": [
    {
     "data": {
      "text/plain": [
       "Loan_ID               object\n",
       "Gender                object\n",
       "Married               object\n",
       "Dependents             int64\n",
       "Education             object\n",
       "Self_Employed         object\n",
       "ApplicantIncome        int64\n",
       "CoapplicantIncome    float64\n",
       "LoanAmount           float64\n",
       "Loan_Amount_Term     float64\n",
       "Credit_History       float64\n",
       "Property_Area         object\n",
       "Loan_Status           object\n",
       "dtype: object"
      ]
     },
     "execution_count": 32,
     "metadata": {},
     "output_type": "execute_result"
    }
   ],
   "source": [
    "dataset.dtypes"
   ]
  },
  {
   "cell_type": "code",
   "execution_count": null,
   "id": "a5c82f49-0b81-4756-ab2e-23fa6a648749",
   "metadata": {},
   "outputs": [],
   "source": []
  }
 ],
 "metadata": {
  "kernelspec": {
   "display_name": "Python 3 (ipykernel)",
   "language": "python",
   "name": "python3"
  },
  "language_info": {
   "codemirror_mode": {
    "name": "ipython",
    "version": 3
   },
   "file_extension": ".py",
   "mimetype": "text/x-python",
   "name": "python",
   "nbconvert_exporter": "python",
   "pygments_lexer": "ipython3",
   "version": "3.12.3"
  }
 },
 "nbformat": 4,
 "nbformat_minor": 5
}
